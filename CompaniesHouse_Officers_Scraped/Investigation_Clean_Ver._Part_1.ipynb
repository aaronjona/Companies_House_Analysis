{
 "cells": [
  {
   "cell_type": "markdown",
   "id": "9f44aeec",
   "metadata": {},
   "source": [
    "Aaron Chen\n",
    "aaron.chen@spc.ox.ac.uk\n",
    "\n",
    "Companies House Scraped Officer/ VIPs Data Collector. \n",
    "\n",
    "Collect the scraped company_officer and company_VIP json files. Returns a DataFrame with all information. \n",
    "\n",
    "Naming Convention: \n",
    "merge_{start month}_{end month}.csv"
   ]
  },
  {
   "cell_type": "code",
   "execution_count": 6,
   "id": "5040b34b",
   "metadata": {},
   "outputs": [],
   "source": [
    "import networkx as nx\n",
    "import pandas as pd\n",
    "import numpy as np\n",
    "from tqdm import tqdm\n",
    "import glob\n",
    "import json\n",
    "import matplotlib.pyplot as plt\n",
    "import re\n",
    "from random import randint\n",
    "import operator"
   ]
  },
  {
   "cell_type": "code",
   "execution_count": 7,
   "id": "679b0856",
   "metadata": {},
   "outputs": [],
   "source": [
    "def mapping(date): \n",
    "    year = date.split('-')[0]\n",
    "    return year"
   ]
  },
  {
   "cell_type": "code",
   "execution_count": 8,
   "id": "9c3fd398",
   "metadata": {},
   "outputs": [],
   "source": [
    "company_id = set([i.split('/')[-2] for i in glob.glob('data_2/*/*')   if 'company_officers' in i ])"
   ]
  },
  {
   "cell_type": "code",
   "execution_count": 9,
   "id": "ca1b6b82",
   "metadata": {},
   "outputs": [],
   "source": [
    "empty_DOB = {'month':0, 'year': 0}\n",
    "empty_address = {'postal_code':'0'}"
   ]
  },
  {
   "cell_type": "code",
   "execution_count": 10,
   "id": "ae723615",
   "metadata": {},
   "outputs": [
    {
     "name": "stderr",
     "output_type": "stream",
     "text": [
      "100%|█████████████████████████████████| 470342/470342 [02:42<00:00, 2895.42it/s]\n"
     ]
    }
   ],
   "source": [
    "officer_data = []\n",
    "for c in tqdm(company_id): \n",
    "    info = json.loads(open(f'data_2/{c}/company_officers.json').read())\n",
    "    for i in info['items']: \n",
    "        officers = {}\n",
    "        try: \n",
    "            name = str(i['identification']['registration_number']).upper()\n",
    "            if len(name) == 7: \n",
    "                name = '0' + name\n",
    "            officers['name'] = name\n",
    "        except: \n",
    "            officers['name']=i.get('name', 'no_name')\n",
    "        officers['occupation'] = i.get('occupation', 'no_occupation')\n",
    "        officers['officer_role'] = i.get('officer_role', 'no_role')\n",
    "        officers['appointed_on']= i.get('appointed_on', 'no_appointed_date')\n",
    "        officers['country_of_residence'] = i.get('country_of_residence', 'no_country')\n",
    "        officers['nationality'] = i.get('nationality', 'no_nationality')\n",
    "        officers['resigned_on'] = i.get('resigned_on', 'still_appointed')\n",
    "        address = i.get('address', empty_address)\n",
    "        officers['postal_code'] = address.get('postal_code', '0')\n",
    "        DOB = i.get('date_of_birth', empty_DOB)\n",
    "        month = DOB.get('month', 0)\n",
    "        year = DOB.get('year', 0)\n",
    "        officers['DOB'] = f'{year}-{month}'\n",
    "        officers['company_id'] = c\n",
    "        \n",
    "        officer_data.append(officers)\n",
    "\n",
    "officer_data_DF = pd.DataFrame(officer_data)"
   ]
  },
  {
   "cell_type": "code",
   "execution_count": 11,
   "id": "3f48ff84",
   "metadata": {},
   "outputs": [],
   "source": [
    "officer_data_DF.loc[:, ('relation')] = officer_data_DF['officer_role']"
   ]
  },
  {
   "cell_type": "code",
   "execution_count": 12,
   "id": "70ff39d5",
   "metadata": {},
   "outputs": [],
   "source": [
    "# officer_data_DF.loc[:, 'appointed_on'] = officer_data_DF['appointed_on'].map(mapping)\n",
    "# officer_data_DF.loc[:, 'resigned_on'] = officer_data_DF['resigned_on'].map(mapping)"
   ]
  },
  {
   "cell_type": "code",
   "execution_count": 13,
   "id": "3042b86b",
   "metadata": {},
   "outputs": [],
   "source": [
    "officer_data_DF['start'] = officer_data_DF['appointed_on']\n",
    "officer_data_DF['end'] = officer_data_DF['resigned_on']\n",
    "#officer_data_DF\n",
    "officer_data_DF['kind'] = officer_data_DF['officer_role']"
   ]
  },
  {
   "cell_type": "code",
   "execution_count": 14,
   "id": "c409d4e9",
   "metadata": {},
   "outputs": [],
   "source": [
    "#officer_data_DF"
   ]
  },
  {
   "cell_type": "code",
   "execution_count": 15,
   "id": "fc5ac7ea",
   "metadata": {},
   "outputs": [],
   "source": [
    "company_id_vip = set([i.split('/')[-2] for i in glob.glob('data_2/*/*') if 'company_VIP' in i ])"
   ]
  },
  {
   "cell_type": "code",
   "execution_count": 16,
   "id": "ebad0222",
   "metadata": {},
   "outputs": [
    {
     "name": "stderr",
     "output_type": "stream",
     "text": [
      "100%|█████████████████████████████████| 448476/448476 [04:15<00:00, 1754.73it/s]\n"
     ]
    }
   ],
   "source": [
    "VIP_data = []\n",
    "for c in tqdm(company_id_vip): \n",
    "    data = json.loads(open(f'data_2/{c}/company_VIP.json').read())\n",
    "    for i in data['items']: \n",
    "        vips = {}\n",
    "        try: \n",
    "            vips['name'] = i['identification']['registration_number'].upper()\n",
    "            if len(name) == 7: \n",
    "                name = '0' + name\n",
    "            officers['name'] = name\n",
    "        except: \n",
    "            try : \n",
    "                vips['name'] = i['name_elements']['surname'].upper()+', '+i['name_elements']['forename']\n",
    "            except : \n",
    "                vips['name'] = i.get('name', 'protected')\n",
    "            \n",
    "            \n",
    "        vips['natures_of_control'] = i.get('natures_of_control', 'no_info')\n",
    "        vips['kind'] = i.get('kind', 'no_info')\n",
    "        vips['company_id'] = c\n",
    "        vips['notified_on'] = i.get('notified_on', 'no_info')\n",
    "        vips['ceased_on'] = i.get('ceased_on', 'active')\n",
    "        address = i.get('address', empty_address)\n",
    "        vips['postal_code'] = address.get('postal_code', '0')\n",
    "        DOB = i.get('date_of_birth', empty_DOB)\n",
    "        month = DOB.get('month', 0)\n",
    "        year = DOB.get('year', 0)\n",
    "        vips['DOB'] = f'{year}-{month}'\n",
    "        \n",
    "        \n",
    "        VIP_data.append(vips)\n",
    "\n",
    "VIP_DF = pd.DataFrame(VIP_data)"
   ]
  },
  {
   "cell_type": "code",
   "execution_count": 17,
   "id": "4a5ce981",
   "metadata": {},
   "outputs": [],
   "source": [
    "VIP_DF = VIP_DF.explode('natures_of_control')\n",
    "VIP_DF['relation'] = VIP_DF['natures_of_control']"
   ]
  },
  {
   "cell_type": "code",
   "execution_count": 18,
   "id": "4c4aa560",
   "metadata": {},
   "outputs": [],
   "source": [
    "# VIP_DF.loc[:, 'notified_on'] = VIP_DF['notified_on'].map(mapping)\n",
    "# VIP_DF.loc[:, 'ceased_on'] = VIP_DF['ceased_on'].map(mapping)\n",
    "VIP_DF['start'] = VIP_DF['notified_on']\n",
    "VIP_DF['end'] = VIP_DF['ceased_on']\n",
    "#VIP_DF"
   ]
  },
  {
   "cell_type": "code",
   "execution_count": 19,
   "id": "d7c61e59",
   "metadata": {},
   "outputs": [],
   "source": [
    "#VIP_DF[VIP_DF['start'] == 'no_info']"
   ]
  },
  {
   "cell_type": "code",
   "execution_count": 20,
   "id": "b27b67f7",
   "metadata": {},
   "outputs": [
    {
     "name": "stderr",
     "output_type": "stream",
     "text": [
      "/var/folders/9p/frgccnx948gbc26h57pgdn_00000gn/T/ipykernel_4450/1563142686.py:2: SettingWithCopyWarning: \n",
      "A value is trying to be set on a copy of a slice from a DataFrame.\n",
      "Try using .loc[row_indexer,col_indexer] = value instead\n",
      "\n",
      "See the caveats in the documentation: https://pandas.pydata.org/pandas-docs/stable/user_guide/indexing.html#returning-a-view-versus-a-copy\n",
      "  vip_df['type'] = ['vip' for i in range(len(vip_df.index))]\n"
     ]
    }
   ],
   "source": [
    "vip_df = VIP_DF[['name', 'relation', 'kind', 'company_id', 'start', 'end', 'postal_code', 'DOB']]\n",
    "vip_df['type'] = ['vip' for i in range(len(vip_df.index))]\n",
    "#vip_df.tail()"
   ]
  },
  {
   "cell_type": "code",
   "execution_count": 21,
   "id": "738bceac",
   "metadata": {},
   "outputs": [
    {
     "name": "stderr",
     "output_type": "stream",
     "text": [
      "/var/folders/9p/frgccnx948gbc26h57pgdn_00000gn/T/ipykernel_4450/2544483640.py:2: SettingWithCopyWarning: \n",
      "A value is trying to be set on a copy of a slice from a DataFrame.\n",
      "Try using .loc[row_indexer,col_indexer] = value instead\n",
      "\n",
      "See the caveats in the documentation: https://pandas.pydata.org/pandas-docs/stable/user_guide/indexing.html#returning-a-view-versus-a-copy\n",
      "  officer_df.loc[:, ('type')] = ['officer' for i in range(officer_df.shape[0])]\n"
     ]
    }
   ],
   "source": [
    "officer_df = officer_data_DF[['name', 'relation', 'kind', 'company_id', 'start', 'end', 'postal_code', 'DOB']]\n",
    "officer_df.loc[:, ('type')] = ['officer' for i in range(officer_df.shape[0])]\n",
    "#officer_df.tail()"
   ]
  },
  {
   "cell_type": "code",
   "execution_count": 22,
   "id": "4ef8e505",
   "metadata": {},
   "outputs": [],
   "source": [
    "merge = pd.concat([officer_df, vip_df])\n",
    "merge.reset_index(drop=True, inplace=True)\n",
    "#merge"
   ]
  },
  {
   "cell_type": "code",
   "execution_count": 23,
   "id": "c241f0fe",
   "metadata": {},
   "outputs": [],
   "source": [
    "# name convention -> 'merge_' + '[1-12]' + '_' + ... \n",
    "merge.to_csv('merge_7_12.csv', index = False)"
   ]
  },
  {
   "cell_type": "code",
   "execution_count": 24,
   "id": "c25641dc",
   "metadata": {},
   "outputs": [
    {
     "data": {
      "text/html": [
       "<div>\n",
       "<style scoped>\n",
       "    .dataframe tbody tr th:only-of-type {\n",
       "        vertical-align: middle;\n",
       "    }\n",
       "\n",
       "    .dataframe tbody tr th {\n",
       "        vertical-align: top;\n",
       "    }\n",
       "\n",
       "    .dataframe thead th {\n",
       "        text-align: right;\n",
       "    }\n",
       "</style>\n",
       "<table border=\"1\" class=\"dataframe\">\n",
       "  <thead>\n",
       "    <tr style=\"text-align: right;\">\n",
       "      <th></th>\n",
       "      <th>name</th>\n",
       "      <th>relation</th>\n",
       "      <th>kind</th>\n",
       "      <th>company_id</th>\n",
       "      <th>start</th>\n",
       "      <th>end</th>\n",
       "      <th>postal_code</th>\n",
       "      <th>DOB</th>\n",
       "      <th>type</th>\n",
       "    </tr>\n",
       "  </thead>\n",
       "  <tbody>\n",
       "    <tr>\n",
       "      <th>0</th>\n",
       "      <td>HENNOCK, Christine</td>\n",
       "      <td>director</td>\n",
       "      <td>director</td>\n",
       "      <td>10968888</td>\n",
       "      <td>2017</td>\n",
       "      <td>still_appointed</td>\n",
       "      <td>RH13 0PS</td>\n",
       "      <td>1960-6</td>\n",
       "      <td>officer</td>\n",
       "    </tr>\n",
       "    <tr>\n",
       "      <th>1</th>\n",
       "      <td>HENNOCK, Martin</td>\n",
       "      <td>director</td>\n",
       "      <td>director</td>\n",
       "      <td>10968888</td>\n",
       "      <td>2017</td>\n",
       "      <td>still_appointed</td>\n",
       "      <td>RH13 0PS</td>\n",
       "      <td>1960-6</td>\n",
       "      <td>officer</td>\n",
       "    </tr>\n",
       "    <tr>\n",
       "      <th>2</th>\n",
       "      <td>HALPIN, Tj</td>\n",
       "      <td>director</td>\n",
       "      <td>director</td>\n",
       "      <td>11912297</td>\n",
       "      <td>2019</td>\n",
       "      <td>still_appointed</td>\n",
       "      <td>TN25 4BF</td>\n",
       "      <td>1995-8</td>\n",
       "      <td>officer</td>\n",
       "    </tr>\n",
       "    <tr>\n",
       "      <th>3</th>\n",
       "      <td>LEWIS, Joan Elizabeth</td>\n",
       "      <td>secretary</td>\n",
       "      <td>secretary</td>\n",
       "      <td>07893589</td>\n",
       "      <td>2011</td>\n",
       "      <td>2021</td>\n",
       "      <td>CB4 0WX</td>\n",
       "      <td>0-0</td>\n",
       "      <td>officer</td>\n",
       "    </tr>\n",
       "    <tr>\n",
       "      <th>4</th>\n",
       "      <td>LEWIS, Michael</td>\n",
       "      <td>director</td>\n",
       "      <td>director</td>\n",
       "      <td>07893589</td>\n",
       "      <td>2011</td>\n",
       "      <td>2021</td>\n",
       "      <td>CB4 0WX</td>\n",
       "      <td>1958-10</td>\n",
       "      <td>officer</td>\n",
       "    </tr>\n",
       "    <tr>\n",
       "      <th>...</th>\n",
       "      <td>...</td>\n",
       "      <td>...</td>\n",
       "      <td>...</td>\n",
       "      <td>...</td>\n",
       "      <td>...</td>\n",
       "      <td>...</td>\n",
       "      <td>...</td>\n",
       "      <td>...</td>\n",
       "      <td>...</td>\n",
       "    </tr>\n",
       "    <tr>\n",
       "      <th>2873884</th>\n",
       "      <td>FLETCHER, Martin</td>\n",
       "      <td>right-to-appoint-and-remove-directors</td>\n",
       "      <td>individual-person-with-significant-control</td>\n",
       "      <td>10705191</td>\n",
       "      <td>2017</td>\n",
       "      <td>active</td>\n",
       "      <td>RM12 6RJ</td>\n",
       "      <td>1963-4</td>\n",
       "      <td>vip</td>\n",
       "    </tr>\n",
       "    <tr>\n",
       "      <th>2873885</th>\n",
       "      <td>13231271</td>\n",
       "      <td>voting-rights-75-to-100-percent-limited-liabil...</td>\n",
       "      <td>corporate-entity-person-with-significant-control</td>\n",
       "      <td>OC360885</td>\n",
       "      <td>2022</td>\n",
       "      <td>active</td>\n",
       "      <td>NW4 1RL</td>\n",
       "      <td>0-0</td>\n",
       "      <td>vip</td>\n",
       "    </tr>\n",
       "    <tr>\n",
       "      <th>2873886</th>\n",
       "      <td>WRAY, Nigel</td>\n",
       "      <td>voting-rights-75-to-100-percent-limited-liabil...</td>\n",
       "      <td>individual-person-with-significant-control</td>\n",
       "      <td>OC360885</td>\n",
       "      <td>2018</td>\n",
       "      <td>2022</td>\n",
       "      <td>W1G 0PJ</td>\n",
       "      <td>1948-4</td>\n",
       "      <td>vip</td>\n",
       "    </tr>\n",
       "    <tr>\n",
       "      <th>2873887</th>\n",
       "      <td>WRAY, Nigel</td>\n",
       "      <td>right-to-share-surplus-assets-25-to-50-percent...</td>\n",
       "      <td>individual-person-with-significant-control</td>\n",
       "      <td>OC360885</td>\n",
       "      <td>2018</td>\n",
       "      <td>2022</td>\n",
       "      <td>W1G 0PJ</td>\n",
       "      <td>1948-4</td>\n",
       "      <td>vip</td>\n",
       "    </tr>\n",
       "    <tr>\n",
       "      <th>2873888</th>\n",
       "      <td>WRAY, Nigel</td>\n",
       "      <td>right-to-appoint-and-remove-members-limited-li...</td>\n",
       "      <td>individual-person-with-significant-control</td>\n",
       "      <td>OC360885</td>\n",
       "      <td>2018</td>\n",
       "      <td>2022</td>\n",
       "      <td>W1G 0PJ</td>\n",
       "      <td>1948-4</td>\n",
       "      <td>vip</td>\n",
       "    </tr>\n",
       "  </tbody>\n",
       "</table>\n",
       "<p>2873889 rows × 9 columns</p>\n",
       "</div>"
      ],
      "text/plain": [
       "                          name  \\\n",
       "0           HENNOCK, Christine   \n",
       "1              HENNOCK, Martin   \n",
       "2                   HALPIN, Tj   \n",
       "3        LEWIS, Joan Elizabeth   \n",
       "4               LEWIS, Michael   \n",
       "...                        ...   \n",
       "2873884       FLETCHER, Martin   \n",
       "2873885               13231271   \n",
       "2873886            WRAY, Nigel   \n",
       "2873887            WRAY, Nigel   \n",
       "2873888            WRAY, Nigel   \n",
       "\n",
       "                                                  relation  \\\n",
       "0                                                 director   \n",
       "1                                                 director   \n",
       "2                                                 director   \n",
       "3                                                secretary   \n",
       "4                                                 director   \n",
       "...                                                    ...   \n",
       "2873884              right-to-appoint-and-remove-directors   \n",
       "2873885  voting-rights-75-to-100-percent-limited-liabil...   \n",
       "2873886  voting-rights-75-to-100-percent-limited-liabil...   \n",
       "2873887  right-to-share-surplus-assets-25-to-50-percent...   \n",
       "2873888  right-to-appoint-and-remove-members-limited-li...   \n",
       "\n",
       "                                                     kind company_id start  \\\n",
       "0                                                director   10968888  2017   \n",
       "1                                                director   10968888  2017   \n",
       "2                                                director   11912297  2019   \n",
       "3                                               secretary   07893589  2011   \n",
       "4                                                director   07893589  2011   \n",
       "...                                                   ...        ...   ...   \n",
       "2873884        individual-person-with-significant-control   10705191  2017   \n",
       "2873885  corporate-entity-person-with-significant-control   OC360885  2022   \n",
       "2873886        individual-person-with-significant-control   OC360885  2018   \n",
       "2873887        individual-person-with-significant-control   OC360885  2018   \n",
       "2873888        individual-person-with-significant-control   OC360885  2018   \n",
       "\n",
       "                     end postal_code      DOB     type  \n",
       "0        still_appointed    RH13 0PS   1960-6  officer  \n",
       "1        still_appointed    RH13 0PS   1960-6  officer  \n",
       "2        still_appointed    TN25 4BF   1995-8  officer  \n",
       "3                   2021     CB4 0WX      0-0  officer  \n",
       "4                   2021     CB4 0WX  1958-10  officer  \n",
       "...                  ...         ...      ...      ...  \n",
       "2873884           active    RM12 6RJ   1963-4      vip  \n",
       "2873885           active     NW4 1RL      0-0      vip  \n",
       "2873886             2022     W1G 0PJ   1948-4      vip  \n",
       "2873887             2022     W1G 0PJ   1948-4      vip  \n",
       "2873888             2022     W1G 0PJ   1948-4      vip  \n",
       "\n",
       "[2873889 rows x 9 columns]"
      ]
     },
     "execution_count": 24,
     "metadata": {},
     "output_type": "execute_result"
    }
   ],
   "source": [
    "merge"
   ]
  },
  {
   "cell_type": "code",
   "execution_count": null,
   "id": "eac07cdb",
   "metadata": {},
   "outputs": [],
   "source": []
  }
 ],
 "metadata": {
  "kernelspec": {
   "display_name": "Python 3 (ipykernel)",
   "language": "python",
   "name": "python3"
  },
  "language_info": {
   "codemirror_mode": {
    "name": "ipython",
    "version": 3
   },
   "file_extension": ".py",
   "mimetype": "text/x-python",
   "name": "python",
   "nbconvert_exporter": "python",
   "pygments_lexer": "ipython3",
   "version": "3.10.11"
  }
 },
 "nbformat": 4,
 "nbformat_minor": 5
}
